{
 "cells": [
  {
   "cell_type": "code",
   "execution_count": 1,
   "id": "7510c252",
   "metadata": {},
   "outputs": [],
   "source": [
    "import pickle\n",
    "import pandas as pd\n",
    "import numpy as np\n",
    "import json\n",
    "import re\n",
    "import time\n",
    "import ast\n",
    "import tqdm\n",
    "from collections import defaultdict"
   ]
  },
  {
   "cell_type": "code",
   "execution_count": 2,
   "id": "d160d82c",
   "metadata": {},
   "outputs": [],
   "source": [
    "with open('./lol_user_history_data.pickle', 'rb') as f:\n",
    "    user_history = pickle.load(f)"
   ]
  },
  {
   "cell_type": "code",
   "execution_count": 3,
   "id": "f29a3a84",
   "metadata": {},
   "outputs": [],
   "source": [
    "with open('./lol_new_match_dict.pickle', 'rb') as f:\n",
    "    match_dict = pickle.load(f)"
   ]
  },
  {
   "cell_type": "code",
   "execution_count": 11,
   "id": "287d3aae",
   "metadata": {},
   "outputs": [],
   "source": [
    "import pickle\n",
    "import pandas as pd\n",
    "import numpy as np\n",
    "import json\n",
    "import re\n",
    "import time\n",
    "import ast\n",
    "import tqdm\n",
    "from collections import defaultdict\n",
    "with open('./lol_user_history_data.pickle', 'rb') as f:\n",
    "    user_history = pickle.load(f)\n",
    "with open('./lol_new_match_dict.pickle', 'rb') as f:\n",
    "    match_dict = pickle.load(f)\n",
    "total_win = 0\n",
    "idx = 0\n",
    "for match in match_dict.keys():\n",
    "    total_win += user_history[match_dict[match][1][0]][match_dict[match][1][1]]['win']-4\n",
    "    idx += 1"
   ]
  },
  {
   "cell_type": "code",
   "execution_count": 13,
   "id": "f2a02449",
   "metadata": {},
   "outputs": [
    {
     "data": {
      "text/plain": [
       "0.5040533346671764"
      ]
     },
     "execution_count": 13,
     "metadata": {},
     "output_type": "execute_result"
    }
   ],
   "source": [
    "total_win/idx"
   ]
  },
  {
   "cell_type": "code",
   "execution_count": 15,
   "id": "24131b06",
   "metadata": {},
   "outputs": [],
   "source": [
    "with open('./dota/dota_user_history_data.pickle', 'rb') as f:\n",
    "    user_history = pickle.load(f)\n",
    "with open('./dota/dota_new_match_dict.pickle', 'rb') as f:\n",
    "    match_dict = pickle.load(f)"
   ]
  },
  {
   "cell_type": "code",
   "execution_count": 16,
   "id": "7e89c052",
   "metadata": {},
   "outputs": [],
   "source": [
    "total_win = 0\n",
    "idx = 0\n",
    "for match in match_dict.keys():\n",
    "    total_win += user_history[match_dict[match][1][0]][match_dict[match][1][1]]['win']-4\n",
    "    idx += 1"
   ]
  },
  {
   "cell_type": "code",
   "execution_count": 17,
   "id": "d06a8341",
   "metadata": {},
   "outputs": [
    {
     "data": {
      "text/plain": [
       "0.51886"
      ]
     },
     "execution_count": 17,
     "metadata": {},
     "output_type": "execute_result"
    }
   ],
   "source": [
    "total_win/idx"
   ]
  },
  {
   "cell_type": "code",
   "execution_count": null,
   "id": "16bab794",
   "metadata": {},
   "outputs": [],
   "source": []
  }
 ],
 "metadata": {
  "kernelspec": {
   "display_name": "AI506",
   "language": "python",
   "name": "aiprogramming"
  },
  "language_info": {
   "codemirror_mode": {
    "name": "ipython",
    "version": 3
   },
   "file_extension": ".py",
   "mimetype": "text/x-python",
   "name": "python",
   "nbconvert_exporter": "python",
   "pygments_lexer": "ipython3",
   "version": "3.8.8"
  }
 },
 "nbformat": 4,
 "nbformat_minor": 5
}
